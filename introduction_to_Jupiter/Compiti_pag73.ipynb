{
 "cells": [
  {
   "cell_type": "markdown",
   "id": "5f9dac02",
   "metadata": {},
   "source": [
    "### Utilizza le list comprehension per scrivere un programma che crei una lista con tutte le potenze di  due minori o uguali a un valore inserito dall'utente"
   ]
  },
  {
   "cell_type": "code",
   "execution_count": 1,
   "id": "e98e8f89",
   "metadata": {},
   "outputs": [
    {
     "name": "stdout",
     "output_type": "stream",
     "text": [
      "inserisci un valore: 10\n"
     ]
    }
   ],
   "source": [
    "user_input = int(input(\"inserisci un valore: \"))"
   ]
  },
  {
   "cell_type": "code",
   "execution_count": 2,
   "id": "b0fc07db",
   "metadata": {},
   "outputs": [
    {
     "data": {
      "text/plain": [
       "[1, 2, 4, 8]"
      ]
     },
     "execution_count": 2,
     "metadata": {},
     "output_type": "execute_result"
    }
   ],
   "source": [
    "list_pow = [2**power for power in range(user_input) if 2**power<user_input]\n",
    "list_pow"
   ]
  },
  {
   "cell_type": "markdown",
   "id": "31e41cd0",
   "metadata": {},
   "source": [
    "**esercizio 1**: scrivi un programma in py che chieda un numero all'utente e gli comunichi se queto numero è divisibile pper 3 oppure no. Per verificare la divisibilità può esserti utile l'operatore resto %."
   ]
  },
  {
   "cell_type": "code",
   "execution_count": 3,
   "id": "d12febe2",
   "metadata": {},
   "outputs": [
    {
     "name": "stdout",
     "output_type": "stream",
     "text": [
      "Inserisci un valore da dividere per 3: 3\n"
     ]
    }
   ],
   "source": [
    "number_to_divide = 3\n",
    "user_input_divisible_for_3 = int(input(f\"Inserisci un valore da dividere per {number_to_divide}: \"))"
   ]
  },
  {
   "cell_type": "code",
   "execution_count": 4,
   "id": "01ba00cb",
   "metadata": {},
   "outputs": [
    {
     "name": "stdout",
     "output_type": "stream",
     "text": [
      "Il numero è divisibile per 3\n"
     ]
    }
   ],
   "source": [
    "if not user_input_divisible_for_3 % 3 : \n",
    "    print(f\"Il numero è divisibile per {number_to_divide}\") \n",
    "else:\n",
    "    print(f\"Il numero NON è divisibile per {number_to_divide}\")"
   ]
  },
  {
   "cell_type": "markdown",
   "id": "fdb42615",
   "metadata": {},
   "source": [
    "**Esercizio 2**: Scrivi un programma in py che chieda un numero all'utente e gli comunich se questo numero è divisibile per 2, o per 3, o per 4, o per nessuno di essi."
   ]
  },
  {
   "cell_type": "code",
   "execution_count": 5,
   "id": "7e404279",
   "metadata": {},
   "outputs": [
    {
     "name": "stdout",
     "output_type": "stream",
     "text": [
      "Inserisci un valore: 8\n"
     ]
    }
   ],
   "source": [
    "user_input_divisible = int(input(f\"Inserisci un valore: \"))"
   ]
  },
  {
   "cell_type": "code",
   "execution_count": 6,
   "id": "d28048e7",
   "metadata": {},
   "outputs": [
    {
     "name": "stdout",
     "output_type": "stream",
     "text": [
      "Il numero 8 è divisibile per 2, 4.\n"
     ]
    }
   ],
   "source": [
    "divisor = [div for div in [2, 3, 4] if not user_input_divisible % div ]\n",
    "\n",
    "if divisor:\n",
    "    divisor_str = str(divisor).replace(\"[\", \"\").replace(\"]\", \"\")\n",
    "    print(f\"Il numero {user_input_divisible} è divisibile per {divisor_str}.\")\n",
    "else:\n",
    "    print(f\"Il numero {user_input_divisible} non è divisibile né per 2, né per 3, né per 4.\")"
   ]
  },
  {
   "cell_type": "markdown",
   "id": "6d247d74",
   "metadata": {},
   "source": [
    "**Esercizio 3**: Scrivi un programma py che permetta all'utente di effettuare le quattro operazioni aritmetiche. per prima cosa chiedi all'utente quale operazione desidera eseguire(0 somma, 1 sottrazione, 2 moltiplicazione, 3 divisione) poi chiedi all'utente i due numeri e stampa il risultato dell'operazione"
   ]
  },
  {
   "cell_type": "code",
   "execution_count": 7,
   "id": "30b5dca6",
   "metadata": {},
   "outputs": [
    {
     "name": "stdout",
     "output_type": "stream",
     "text": [
      "Scegli una operazione aritmetica:\n",
      "                          0 = somma\n",
      "                          1 = sottrazione\n",
      "                          2 = moltiplicazione\n",
      "                          3 = divisione\n",
      "                          \n",
      "                          3\n"
     ]
    }
   ],
   "source": [
    "calculator_choice = int(input(\"\"\"Scegli una operazione aritmetica:\n",
    "                          0 = somma\n",
    "                          1 = sottrazione\n",
    "                          2 = moltiplicazione\n",
    "                          3 = divisione\n",
    "                          \n",
    "                          \"\"\"))"
   ]
  },
  {
   "cell_type": "code",
   "execution_count": 4,
   "id": "e2d49ef7",
   "metadata": {},
   "outputs": [
    {
     "name": "stdout",
     "output_type": "stream",
     "text": [
      "Inserisci primo numero: 10\n",
      "Inserisci secondo numero: 20\n"
     ]
    }
   ],
   "source": [
    "first_number = int(input(\"Inserisci primo numero: \"))\n",
    "second_number = int(input(\"Inserisci secondo numero: \"))"
   ]
  },
  {
   "cell_type": "code",
   "execution_count": 8,
   "id": "24bf2197",
   "metadata": {},
   "outputs": [
    {
     "name": "stdout",
     "output_type": "stream",
     "text": [
      "0.5\n"
     ]
    }
   ],
   "source": [
    "if calculator_choice == 0:\n",
    "    print(first_number + second_number)\n",
    "elif calculator_choice == 1:\n",
    "    print(first_number - second_number)\n",
    "elif calculator_choice == 2:\n",
    "    print(first_number * second_number)\n",
    "elif calculator_choice == 3:\n",
    "    if second_number != 0:\n",
    "        print(first_number / second_number)\n",
    "    else: \n",
    "        print(\"Divisione per 0 impossibile\")"
   ]
  },
  {
   "cell_type": "markdown",
   "id": "8ef933cb",
   "metadata": {},
   "source": [
    "**Esercizio 7**: Crea un programma py che, data una lista di numeri, restituisca il suo valore massimo e il suo valore minimo"
   ]
  },
  {
   "cell_type": "code",
   "execution_count": 5,
   "id": "1b18e2c2",
   "metadata": {},
   "outputs": [
    {
     "name": "stdout",
     "output_type": "stream",
     "text": [
      "Il minimo vale 3 e il massimo vale 45\n"
     ]
    }
   ],
   "source": [
    "list_of_numbers = [3, 4, 6, 8, 10, 45]\n",
    "sorted(list_of_numbers)\n",
    "minimum= list_of_numbers[0]\n",
    "maximum = list_of_numbers[-1]\n",
    "print(f\"Il minimo vale {minimum} e il massimo vale {maximum}\")"
   ]
  },
  {
   "cell_type": "markdown",
   "id": "6d72318c",
   "metadata": {},
   "source": [
    "**Esercizio 8**: Crea una funzione py che, data una lista di stringhe, restituisca la stringa più lunga della lista"
   ]
  },
  {
   "cell_type": "code",
   "execution_count": 7,
   "id": "923831a7",
   "metadata": {},
   "outputs": [
    {
     "data": {
      "text/plain": [
       "'buonpomeriggio'"
      ]
     },
     "execution_count": 7,
     "metadata": {},
     "output_type": "execute_result"
    }
   ],
   "source": [
    "list_of_strings = [\"ciao\", \"buongiorno\", \"buonasera\", \"buonpomeriggio\"]\n",
    "longest_str = max(list_of_strings, key=len)\n",
    "longest_str"
   ]
  },
  {
   "cell_type": "code",
   "execution_count": null,
   "id": "a9c00e2e",
   "metadata": {},
   "outputs": [],
   "source": []
  }
 ],
 "metadata": {
  "kernelspec": {
   "display_name": "Python 3 (ipykernel)",
   "language": "python",
   "name": "python3"
  },
  "language_info": {
   "codemirror_mode": {
    "name": "ipython",
    "version": 3
   },
   "file_extension": ".py",
   "mimetype": "text/x-python",
   "name": "python",
   "nbconvert_exporter": "python",
   "pygments_lexer": "ipython3",
   "version": "3.11.4"
  }
 },
 "nbformat": 4,
 "nbformat_minor": 5
}
