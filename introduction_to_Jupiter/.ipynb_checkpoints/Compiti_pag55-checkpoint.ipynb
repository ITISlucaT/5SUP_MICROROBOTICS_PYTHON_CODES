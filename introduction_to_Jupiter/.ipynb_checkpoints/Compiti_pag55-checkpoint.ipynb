{
 "cells": [
  {
   "cell_type": "markdown",
   "id": "a44f96c8",
   "metadata": {},
   "source": [
    "# Esercizi pagina 55\n",
    "\n",
    "**Esercizio 10**: Scrivi un programma py nel quale assegni alla variabile lista_voti una lista con tutti i tuoi voti (almeno 6 voti): sfrutta l'indicizzazione per:\n",
    "- stampare la lista senza il primo e l'ultimo voto\n",
    "- sostituire il quarto voto con un 10\n",
    "- stampare i primi 3 voti della lista"
   ]
  },
  {
   "cell_type": "code",
   "execution_count": 6,
   "id": "08d72f87",
   "metadata": {},
   "outputs": [
    {
     "data": {
      "text/plain": [
       "[9, 7, 6, 5]"
      ]
     },
     "execution_count": 6,
     "metadata": {},
     "output_type": "execute_result"
    }
   ],
   "source": [
    "lista_voti = [8, 9, 7, 6, 5, 7]\n",
    "grade_without_extremes = lista_voti.copy()\n",
    "grade_without_extremes.pop(0)\n",
    "grade_without_extremes.pop(-1)\n",
    "grade_without_extremes"
   ]
  },
  {
   "cell_type": "code",
   "execution_count": 8,
   "id": "e278859b",
   "metadata": {},
   "outputs": [
    {
     "data": {
      "text/plain": [
       "[8, 9, 7, 10, 5, 7]"
      ]
     },
     "execution_count": 8,
     "metadata": {},
     "output_type": "execute_result"
    }
   ],
   "source": [
    "grade_replaced = lista_voti.copy()\n",
    "grade_replaced[3] = 10\n",
    "grade_replaced"
   ]
  },
  {
   "cell_type": "code",
   "execution_count": 9,
   "id": "b03bcd25",
   "metadata": {},
   "outputs": [
    {
     "name": "stdout",
     "output_type": "stream",
     "text": [
      "[8, 9, 7]\n"
     ]
    }
   ],
   "source": [
    "print(grade_replaced[0:3])"
   ]
  },
  {
   "cell_type": "markdown",
   "id": "c6c1101b",
   "metadata": {},
   "source": [
    "**Esercizio 11**:Scrivi un programma in py in cui\n",
    "- inizializzi la lista\n",
    "x = [0,1,2,3,4,5,6,7,8]\n",
    "- crei due nuove liste contententi ciascuna una delle due metà della lista\n",
    "- aggiungi il vaore 5 alla lista contenenta la prima metà"
   ]
  },
  {
   "cell_type": "code",
   "execution_count": 15,
   "id": "08b6e649",
   "metadata": {},
   "outputs": [
    {
     "name": "stdout",
     "output_type": "stream",
     "text": [
      "[0, 1, 2, 3] [4, 5, 6, 7, 5]\n"
     ]
    }
   ],
   "source": [
    "x = [0,1,2,3,4,5,6,7,8]\n",
    "first_list = x[0:int(len(x)/2)]\n",
    "second_list = x[int(len(x)/2): -1]\n",
    "second_list.append(5)\n",
    "print(first_list, second_list)"
   ]
  },
  {
   "cell_type": "markdown",
   "id": "1799c3fa",
   "metadata": {},
   "source": [
    "**Esercizio 14**: scrivi un programma in py che permetta all'utente di inserire il suo nome e che stampi il nome invertito"
   ]
  },
  {
   "cell_type": "code",
   "execution_count": 19,
   "id": "31678ecb",
   "metadata": {},
   "outputs": [
    {
     "name": "stdout",
     "output_type": "stream",
     "text": [
      "Inserisci il tuo nome: giovanni\n",
      "innavoig\n"
     ]
    }
   ],
   "source": [
    "name = input(\"Inserisci il tuo nome: \")\n",
    "print(name[::-1])"
   ]
  },
  {
   "cell_type": "markdown",
   "id": "9d5b0996",
   "metadata": {},
   "source": [
    "**Esercizio 15**:scrivi un programma in py che permetta all'utente di inserire il suo nome e che stampi il nome in cui tutti i caratteri tranne il primo sono sotituiti da un *"
   ]
  },
  {
   "cell_type": "code",
   "execution_count": 4,
   "id": "2884c697",
   "metadata": {},
   "outputs": [
    {
     "name": "stdout",
     "output_type": "stream",
     "text": [
      "Inserisci il tuo nome: pippo\n"
     ]
    },
    {
     "data": {
      "text/plain": [
       "'p****'"
      ]
     },
     "execution_count": 4,
     "metadata": {},
     "output_type": "execute_result"
    }
   ],
   "source": [
    "name = input(\"Inserisci il tuo nome: \")\n",
    "name = name[0] + '*' * (len(name)-1)\n",
    "name"
   ]
  },
  {
   "cell_type": "markdown",
   "id": "88cb5fc4",
   "metadata": {},
   "source": [
    "**Esercizio 16**:Scrivi un programma in py che permetta all'utente di inserire il suo nome e che stampi la lista in cui gli elementi sono i caratteri del nome. "
   ]
  },
  {
   "cell_type": "code",
   "execution_count": 6,
   "id": "1a44b206",
   "metadata": {},
   "outputs": [
    {
     "name": "stdout",
     "output_type": "stream",
     "text": [
      "Inserisci il tuo nome: pluto\n"
     ]
    },
    {
     "data": {
      "text/plain": [
       "['p', 'l', 'u', 't', 'o']"
      ]
     },
     "execution_count": 6,
     "metadata": {},
     "output_type": "execute_result"
    }
   ],
   "source": [
    "name = input(\"Inserisci il tuo nome: \")\n",
    "list_of_character = list(name)\n",
    "list_of_character"
   ]
  },
  {
   "cell_type": "code",
   "execution_count": null,
   "id": "20cf9bce",
   "metadata": {},
   "outputs": [],
   "source": []
  }
 ],
 "metadata": {
  "kernelspec": {
   "display_name": "Python 3 (ipykernel)",
   "language": "python",
   "name": "python3"
  },
  "language_info": {
   "codemirror_mode": {
    "name": "ipython",
    "version": 3
   },
   "file_extension": ".py",
   "mimetype": "text/x-python",
   "name": "python",
   "nbconvert_exporter": "python",
   "pygments_lexer": "ipython3",
   "version": "3.11.4"
  }
 },
 "nbformat": 4,
 "nbformat_minor": 5
}
