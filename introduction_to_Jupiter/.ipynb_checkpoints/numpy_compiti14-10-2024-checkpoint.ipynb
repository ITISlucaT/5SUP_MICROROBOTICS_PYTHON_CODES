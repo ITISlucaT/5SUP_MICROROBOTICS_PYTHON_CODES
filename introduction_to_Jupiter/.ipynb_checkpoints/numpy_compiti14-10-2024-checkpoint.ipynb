{
 "cells": [
  {
   "cell_type": "markdown",
   "id": "233b8ac5",
   "metadata": {},
   "source": [
    "# Compiti per il 14/10/2024\n",
    "## Esercizi\n",
    "    1)Crea un vettore nullo di dimensione 10 ma con il quinto valore uguale a 1. \n",
    "    2)Crea un vettore con valori compresi tra 10 e 49. \n",
    "    3)Crea una funzione che inverta un vettore (il primo elemento diventa l'ultimo). \n",
    "    4)Trova gli indici degli elementi diversi da zero in [1,2,0,0,4,0]. \n",
    "    5)Crea un vettore casuale di dimensione 10 e sostituisci il valore massimo con 0. \n",
    "    6)Dato n, crea l'array [1,2,3,...,n,1,2,3,...,n]."
   ]
  },
  {
   "cell_type": "markdown",
   "id": "43c20e8f",
   "metadata": {},
   "source": [
    "### Esercizio 1"
   ]
  },
  {
   "cell_type": "code",
   "execution_count": 15,
   "id": "346e0d40",
   "metadata": {},
   "outputs": [
    {
     "data": {
      "text/plain": [
       "array([2.51968509e-316, 0.00000000e+000, 2.11236209e+262, 7.49363265e+247,\n",
       "       1.00000000e+000, 4.36310559e+198, 1.10259191e+155, 4.78152771e-091,\n",
       "       2.42766817e-154, 3.64913061e+233])"
      ]
     },
     "execution_count": 15,
     "metadata": {},
     "output_type": "execute_result"
    }
   ],
   "source": [
    "import numpy as np\n",
    "\n",
    "dim = 10\n",
    "\n",
    "array_null = np.empty(dim)\n",
    "array_null[4] = 1\n",
    "array_null"
   ]
  },
  {
   "cell_type": "markdown",
   "id": "26b15e13",
   "metadata": {},
   "source": [
    "## Esercizio 2\n",
    "tutti i valori fino a 49"
   ]
  },
  {
   "cell_type": "code",
   "execution_count": 17,
   "id": "54d980e0",
   "metadata": {
    "scrolled": true
   },
   "outputs": [
    {
     "data": {
      "text/plain": [
       "array([10, 11, 12, 13, 14, 15, 16, 17, 18, 19, 20, 21, 22, 23, 24, 25, 26,\n",
       "       27, 28, 29, 30, 31, 32, 33, 34, 35, 36, 37, 38, 39, 40, 41, 42, 43,\n",
       "       44, 45, 46, 47, 48, 49])"
      ]
     },
     "execution_count": 17,
     "metadata": {},
     "output_type": "execute_result"
    }
   ],
   "source": [
    "array_comprehension = np.arange(10, 50)\n",
    "array_comprehension"
   ]
  },
  {
   "cell_type": "markdown",
   "id": "2da8a16d",
   "metadata": {},
   "source": [
    "## Esercizio 2\n",
    "valori random tra 10 e 49"
   ]
  },
  {
   "cell_type": "code",
   "execution_count": 22,
   "id": "218bd535",
   "metadata": {},
   "outputs": [
    {
     "data": {
      "text/plain": [
       "array([29, 18, 21, 18, 41, 20, 26, 39, 36, 32])"
      ]
     },
     "execution_count": 22,
     "metadata": {},
     "output_type": "execute_result"
    }
   ],
   "source": [
    "array_random_2_49 = np.random.randint(10, 50, dim)\n",
    "array_random_2_49"
   ]
  },
  {
   "cell_type": "markdown",
   "id": "1c873b60",
   "metadata": {},
   "source": [
    "## Esercizio 3"
   ]
  },
  {
   "cell_type": "code",
   "execution_count": 31,
   "id": "7cd5dc2d",
   "metadata": {},
   "outputs": [],
   "source": [
    "def invert_array(array_to_invert):\n",
    "    return np.flip(array_to_invert)\n"
   ]
  },
  {
   "cell_type": "code",
   "execution_count": 33,
   "id": "fd4cfef2",
   "metadata": {},
   "outputs": [
    {
     "data": {
      "text/plain": [
       "array([32, 36, 39, 26, 20, 41, 18, 21, 18, 29])"
      ]
     },
     "execution_count": 33,
     "metadata": {},
     "output_type": "execute_result"
    }
   ],
   "source": [
    "invert_array(array_random_2_49)"
   ]
  },
  {
   "cell_type": "markdown",
   "id": "f91d5a5d",
   "metadata": {},
   "source": [
    "## Esercizio 4"
   ]
  },
  {
   "cell_type": "code",
   "execution_count": 34,
   "id": "0e3494c2",
   "metadata": {},
   "outputs": [
    {
     "data": {
      "text/plain": [
       "array([1, 2, 0, 0, 4, 0])"
      ]
     },
     "execution_count": 34,
     "metadata": {},
     "output_type": "execute_result"
    }
   ],
   "source": [
    "zeros_to_find = np.array([1,2,0,0,4,0])\n",
    "zeros_to_find"
   ]
  },
  {
   "cell_type": "code",
   "execution_count": 39,
   "id": "7398afb2",
   "metadata": {},
   "outputs": [
    {
     "data": {
      "text/plain": [
       "[2, 3, 5]"
      ]
     },
     "execution_count": 39,
     "metadata": {},
     "output_type": "execute_result"
    }
   ],
   "source": [
    "indexes_of_zero = zeros_to_find == 0\n",
    "result = []\n",
    "for i,j in enumerate(indexes_of_zero):\n",
    "    if j: result.append(i)\n",
    "result"
   ]
  },
  {
   "cell_type": "markdown",
   "id": "a0c9ba90",
   "metadata": {},
   "source": [
    "## Esercizio 5\n",
    "5)Crea un vettore casuale di dimensione 10 e sostituisci il valore massimo con 0."
   ]
  },
  {
   "cell_type": "code",
   "execution_count": 61,
   "id": "61e01a8c",
   "metadata": {},
   "outputs": [
    {
     "data": {
      "text/plain": [
       "array([82, 65, 61, 52, 39, 70, 86, 96, 44, 16])"
      ]
     },
     "execution_count": 61,
     "metadata": {},
     "output_type": "execute_result"
    }
   ],
   "source": [
    "dim = 10\n",
    "casualt_vector = np.random.randint(0, 100, dim)\n",
    "casualt_vector"
   ]
  },
  {
   "cell_type": "code",
   "execution_count": 62,
   "id": "36dbadc6",
   "metadata": {},
   "outputs": [
    {
     "data": {
      "text/plain": [
       "array([82, 65, 61, 52, 39, 70, 86,  0, 44, 16])"
      ]
     },
     "execution_count": 62,
     "metadata": {},
     "output_type": "execute_result"
    }
   ],
   "source": [
    "casualt_vector[np.argmax(casualt_vector)] = 0\n",
    "casualt_vector"
   ]
  },
  {
   "cell_type": "markdown",
   "id": "84d46f73",
   "metadata": {},
   "source": [
    "## Esercizio 6\n",
    "Dato n, crea l'array [1,2,3,...,n,1,2,3,...,n]."
   ]
  },
  {
   "cell_type": "code",
   "execution_count": 70,
   "id": "1bac4a64",
   "metadata": {},
   "outputs": [
    {
     "data": {
      "text/plain": [
       "array([ 1,  2,  3,  4,  5,  6,  7,  8,  9, 10, 11, 12, 13, 14, 15, 16, 17,\n",
       "       18, 19, 20, 21, 22, 23, 24, 25, 26, 27, 28, 29, 30,  1,  2,  3,  4,\n",
       "        5,  6,  7,  8,  9, 10, 11, 12, 13, 14, 15, 16, 17, 18, 19, 20, 21,\n",
       "       22, 23, 24, 25, 26, 27, 28, 29, 30])"
      ]
     },
     "execution_count": 70,
     "metadata": {},
     "output_type": "execute_result"
    }
   ],
   "source": [
    "n = 30\n",
    "list_to_n = np.arange(1, n+1)\n",
    "list_to_n = np.append(list_to_n, np.arange(1, n+1))\n",
    "list_to_n"
   ]
  },
  {
   "cell_type": "code",
   "execution_count": null,
   "id": "e866438b",
   "metadata": {},
   "outputs": [],
   "source": []
  }
 ],
 "metadata": {
  "kernelspec": {
   "display_name": "Python 3 (ipykernel)",
   "language": "python",
   "name": "python3"
  },
  "language_info": {
   "codemirror_mode": {
    "name": "ipython",
    "version": 3
   },
   "file_extension": ".py",
   "mimetype": "text/x-python",
   "name": "python",
   "nbconvert_exporter": "python",
   "pygments_lexer": "ipython3",
   "version": "3.11.4"
  }
 },
 "nbformat": 4,
 "nbformat_minor": 5
}
