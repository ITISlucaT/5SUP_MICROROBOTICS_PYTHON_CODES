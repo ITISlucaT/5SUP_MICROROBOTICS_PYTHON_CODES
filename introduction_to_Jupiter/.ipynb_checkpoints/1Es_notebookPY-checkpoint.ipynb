{
 "cells": [
  {
   "cell_type": "code",
   "execution_count": 1,
   "id": "b8b957ba",
   "metadata": {},
   "outputs": [
    {
     "name": "stdout",
     "output_type": "stream",
     "text": [
      "The Zen of Python, by Tim Peters\n",
      "\n",
      "Beautiful is better than ugly.\n",
      "Explicit is better than implicit.\n",
      "Simple is better than complex.\n",
      "Complex is better than complicated.\n",
      "Flat is better than nested.\n",
      "Sparse is better than dense.\n",
      "Readability counts.\n",
      "Special cases aren't special enough to break the rules.\n",
      "Although practicality beats purity.\n",
      "Errors should never pass silently.\n",
      "Unless explicitly silenced.\n",
      "In the face of ambiguity, refuse the temptation to guess.\n",
      "There should be one-- and preferably only one --obvious way to do it.\n",
      "Although that way may not be obvious at first unless you're Dutch.\n",
      "Now is better than never.\n",
      "Although never is often better than *right* now.\n",
      "If the implementation is hard to explain, it's a bad idea.\n",
      "If the implementation is easy to explain, it may be a good idea.\n",
      "Namespaces are one honking great idea -- let's do more of those!\n"
     ]
    }
   ],
   "source": [
    "import this"
   ]
  },
  {
   "cell_type": "code",
   "execution_count": 2,
   "id": "98e81466",
   "metadata": {},
   "outputs": [],
   "source": [
    "import antigravity"
   ]
  },
  {
   "cell_type": "code",
   "execution_count": 3,
   "id": "314f8d3c",
   "metadata": {},
   "outputs": [],
   "source": [
    "import random #random è un modulo nativo (=built-in)"
   ]
  },
  {
   "cell_type": "markdown",
   "id": "6cfd0cec",
   "metadata": {},
   "source": [
    "# First Notebook\n",
    "Questo notebook contiene semplici esempi di codice py"
   ]
  },
  {
   "cell_type": "code",
   "execution_count": 4,
   "id": "aa9fd252",
   "metadata": {},
   "outputs": [
    {
     "data": {
      "text/plain": [
       "['mario', 'luca', 'lucia', 'mari', 'maria']"
      ]
     },
     "execution_count": 4,
     "metadata": {},
     "output_type": "execute_result"
    }
   ],
   "source": [
    "names = [\"mario\", \"luca\", \"lucia\", \"mari\", \"maria\"]#lista, non array\n",
    "names"
   ]
  },
  {
   "cell_type": "markdown",
   "id": "bcc91787",
   "metadata": {},
   "source": [
    "**Un notebook salva il suo namespace, che viene condiviso da tutte le sue celle!**"
   ]
  },
  {
   "cell_type": "markdown",
   "id": "0f469e09",
   "metadata": {},
   "source": [
    "**COME NON FARE UN CICLO FOR SU UNA LISTA**"
   ]
  },
  {
   "cell_type": "code",
   "execution_count": 5,
   "id": "332d7bc6",
   "metadata": {},
   "outputs": [
    {
     "name": "stdout",
     "output_type": "stream",
     "text": [
      "mario\n",
      "luca\n",
      "lucia\n",
      "mari\n",
      "maria\n"
     ]
    }
   ],
   "source": [
    "#C-style\n",
    "for i in range(len(names)):\n",
    "    print(names[i])"
   ]
  },
  {
   "cell_type": "markdown",
   "id": "5640d6e8",
   "metadata": {},
   "source": [
    "**COME FARE UN CICLO FOR SU UNA LISTA**"
   ]
  },
  {
   "cell_type": "code",
   "execution_count": 6,
   "id": "700b16c3",
   "metadata": {},
   "outputs": [
    {
     "name": "stdout",
     "output_type": "stream",
     "text": [
      "mario\n",
      "luca\n",
      "lucia\n",
      "mari\n",
      "maria\n"
     ]
    }
   ],
   "source": [
    "#pythonico = python-style\n",
    "for name in names:\n",
    "    print(name)"
   ]
  },
  {
   "cell_type": "code",
   "execution_count": 7,
   "id": "79bf68b5",
   "metadata": {},
   "outputs": [
    {
     "name": "stdout",
     "output_type": "stream",
     "text": [
      "il nome in posizione 1 è mario\n",
      "il nome in posizione 2 è luca\n",
      "il nome in posizione 3 è lucia\n",
      "il nome in posizione 4 è mari\n",
      "il nome in posizione 5 è maria\n"
     ]
    }
   ],
   "source": [
    "for number, name in enumerate(names):\n",
    "    print(f'il nome in posizione {number+1} è {name}')\n",
    "    "
   ]
  },
  {
   "cell_type": "code",
   "execution_count": 12,
   "id": "36bfdba8",
   "metadata": {},
   "outputs": [],
   "source": [
    "grades = random.choices([\"cinque\", \"sei\",  \"sette\", \"otto\", \"nove\", \"dieci\"], k=5)"
   ]
  },
  {
   "cell_type": "code",
   "execution_count": 14,
   "id": "d201c99a",
   "metadata": {},
   "outputs": [
    {
     "name": "stdout",
     "output_type": "stream",
     "text": [
      "mario ha preso cinque\n",
      "luca ha preso cinque\n",
      "lucia ha preso nove\n",
      "mari ha preso otto\n"
     ]
    }
   ],
   "source": [
    "for name, grade in zip(names, grades):\n",
    "    print(f\"{name} ha preso {grade}\")"
   ]
  },
  {
   "cell_type": "markdown",
   "id": "3dc4bcbb",
   "metadata": {},
   "source": [
    "### Ripasso indicizzazione liste (e stringhe)"
   ]
  },
  {
   "cell_type": "code",
   "execution_count": 16,
   "id": "57c31872",
   "metadata": {},
   "outputs": [
    {
     "data": {
      "text/plain": [
       "'mario'"
      ]
     },
     "execution_count": 16,
     "metadata": {},
     "output_type": "execute_result"
    }
   ],
   "source": [
    "names[0]"
   ]
  },
  {
   "cell_type": "code",
   "execution_count": 17,
   "id": "71a93b03",
   "metadata": {},
   "outputs": [
    {
     "data": {
      "text/plain": [
       "'luca'"
      ]
     },
     "execution_count": 17,
     "metadata": {},
     "output_type": "execute_result"
    }
   ],
   "source": [
    "names[1]"
   ]
  },
  {
   "cell_type": "code",
   "execution_count": 19,
   "id": "84b18ccf",
   "metadata": {},
   "outputs": [
    {
     "data": {
      "text/plain": [
       "'maria'"
      ]
     },
     "execution_count": 19,
     "metadata": {},
     "output_type": "execute_result"
    }
   ],
   "source": [
    "names[-1] #ultimo nome"
   ]
  },
  {
   "cell_type": "code",
   "execution_count": 20,
   "id": "e7010d02",
   "metadata": {},
   "outputs": [
    {
     "data": {
      "text/plain": [
       "'mari'"
      ]
     },
     "execution_count": 20,
     "metadata": {},
     "output_type": "execute_result"
    }
   ],
   "source": [
    "names[-2]"
   ]
  },
  {
   "cell_type": "code",
   "execution_count": 22,
   "id": "935d5c27",
   "metadata": {},
   "outputs": [
    {
     "data": {
      "text/plain": [
       "'io sono una string'"
      ]
     },
     "execution_count": 22,
     "metadata": {},
     "output_type": "execute_result"
    }
   ],
   "source": [
    "string = \"io sono una string\"\n",
    "string"
   ]
  },
  {
   "cell_type": "code",
   "execution_count": 23,
   "id": "27782d7f",
   "metadata": {},
   "outputs": [
    {
     "data": {
      "text/plain": [
       "'g'"
      ]
     },
     "execution_count": 23,
     "metadata": {},
     "output_type": "execute_result"
    }
   ],
   "source": [
    "string[-1]"
   ]
  },
  {
   "cell_type": "markdown",
   "id": "5c2e4d7d",
   "metadata": {},
   "source": [
    "### Ripasso Slicing liste (e stringe)"
   ]
  },
  {
   "cell_type": "code",
   "execution_count": 24,
   "id": "a88ccd0c",
   "metadata": {},
   "outputs": [
    {
     "data": {
      "text/plain": [
       "['mario', 'luca', 'lucia', 'mari', 'maria']"
      ]
     },
     "execution_count": 24,
     "metadata": {},
     "output_type": "execute_result"
    }
   ],
   "source": [
    "names"
   ]
  },
  {
   "cell_type": "code",
   "execution_count": 28,
   "id": "94e6ef4a",
   "metadata": {},
   "outputs": [
    {
     "data": {
      "text/plain": [
       "['mario', 'luca']"
      ]
     },
     "execution_count": 28,
     "metadata": {},
     "output_type": "execute_result"
    }
   ],
   "source": [
    "names[0:2]#il primo indice è incluso, il secondo è escluso"
   ]
  },
  {
   "cell_type": "code",
   "execution_count": 29,
   "id": "d303a8ee",
   "metadata": {},
   "outputs": [],
   "source": [
    "many_grades = random.choices([\"cinque\", \"sei\",  \"sette\", \"otto\", \"nove\", \"dieci\"], \n",
    "                        k=40) #si può andare a capo a patto che sia delimitato da parentesi"
   ]
  },
  {
   "cell_type": "code",
   "execution_count": 31,
   "id": "485a83ac",
   "metadata": {},
   "outputs": [
    {
     "data": {
      "text/plain": [
       "['sette',\n",
       " 'cinque',\n",
       " 'cinque',\n",
       " 'otto',\n",
       " 'nove',\n",
       " 'sei',\n",
       " 'nove',\n",
       " 'dieci',\n",
       " 'cinque',\n",
       " 'dieci']"
      ]
     },
     "execution_count": 31,
     "metadata": {},
     "output_type": "execute_result"
    }
   ],
   "source": [
    "many_grades[0:10] #i primi dieci voti"
   ]
  },
  {
   "cell_type": "code",
   "execution_count": 32,
   "id": "bff02633",
   "metadata": {},
   "outputs": [
    {
     "data": {
      "text/plain": [
       "['sei',\n",
       " 'dieci',\n",
       " 'sei',\n",
       " 'sette',\n",
       " 'sette',\n",
       " 'sei',\n",
       " 'dieci',\n",
       " 'sei',\n",
       " 'otto',\n",
       " 'otto']"
      ]
     },
     "execution_count": 32,
     "metadata": {},
     "output_type": "execute_result"
    }
   ],
   "source": [
    "#gli ultimi 10 voti\n",
    "many_grades[-10:]"
   ]
  },
  {
   "cell_type": "code",
   "execution_count": 35,
   "id": "09a7f7ae",
   "metadata": {},
   "outputs": [
    {
     "data": {
      "text/plain": [
       "'riga1\\n riga2\\n riga3\\n'"
      ]
     },
     "execution_count": 35,
     "metadata": {},
     "output_type": "execute_result"
    }
   ],
   "source": [
    "stringa = \"riga1\\n riga2\\n riga3\\n\"\n",
    "stringa"
   ]
  },
  {
   "cell_type": "code",
   "execution_count": 36,
   "id": "cf97b436",
   "metadata": {},
   "outputs": [
    {
     "data": {
      "text/plain": [
       "'riga1'"
      ]
     },
     "execution_count": 36,
     "metadata": {},
     "output_type": "execute_result"
    }
   ],
   "source": [
    "stringa[0:5]"
   ]
  },
  {
   "cell_type": "code",
   "execution_count": 37,
   "id": "d39f70a9",
   "metadata": {},
   "outputs": [
    {
     "data": {
      "text/plain": [
       "'3\\n'"
      ]
     },
     "execution_count": 37,
     "metadata": {},
     "output_type": "execute_result"
    }
   ],
   "source": [
    "stringa[-2:]"
   ]
  },
  {
   "cell_type": "markdown",
   "id": "fdc65af0",
   "metadata": {},
   "source": [
    "**NON è possibile mixare indici negativi con indici positivi**"
   ]
  },
  {
   "cell_type": "code",
   "execution_count": 38,
   "id": "d9f45d3b",
   "metadata": {},
   "outputs": [
    {
     "data": {
      "text/plain": [
       "'\\n rig'"
      ]
     },
     "execution_count": 38,
     "metadata": {},
     "output_type": "execute_result"
    }
   ],
   "source": [
    "stringa[-8:-3]"
   ]
  },
  {
   "cell_type": "markdown",
   "id": "f56da85a",
   "metadata": {},
   "source": [
    "### Split di stringhe"
   ]
  },
  {
   "cell_type": "code",
   "execution_count": 39,
   "id": "5209c0b4",
   "metadata": {},
   "outputs": [
    {
     "data": {
      "text/plain": [
       "'riga1\\n riga2\\n riga3\\n'"
      ]
     },
     "execution_count": 39,
     "metadata": {},
     "output_type": "execute_result"
    }
   ],
   "source": [
    "stringa"
   ]
  },
  {
   "cell_type": "code",
   "execution_count": 40,
   "id": "a5997252",
   "metadata": {},
   "outputs": [
    {
     "data": {
      "text/plain": [
       "str"
      ]
     },
     "execution_count": 40,
     "metadata": {},
     "output_type": "execute_result"
    }
   ],
   "source": [
    "type(stringa)"
   ]
  },
  {
   "cell_type": "code",
   "execution_count": 43,
   "id": "9510995b",
   "metadata": {},
   "outputs": [
    {
     "data": {
      "text/plain": [
       "['riga1\\n', 'riga2\\n', 'riga3\\n']"
      ]
     },
     "execution_count": 43,
     "metadata": {},
     "output_type": "execute_result"
    }
   ],
   "source": [
    "list_of_strings = stringa.split(\" \")\n",
    "list_of_strings"
   ]
  },
  {
   "cell_type": "code",
   "execution_count": 45,
   "id": "d113ad5c",
   "metadata": {},
   "outputs": [
    {
     "data": {
      "text/plain": [
       "['riga1', 'riga2', 'riga3']"
      ]
     },
     "execution_count": 45,
     "metadata": {},
     "output_type": "execute_result"
    }
   ],
   "source": [
    "new_list_of_strings = []\n",
    "for stringa in list_of_strings:\n",
    "    new_list_of_strings.append(stringa[0:5])\n",
    "new_list_of_strings"
   ]
  },
  {
   "cell_type": "markdown",
   "id": "ba924a0c",
   "metadata": {},
   "source": [
    "### List comprehension "
   ]
  },
  {
   "cell_type": "code",
   "execution_count": 48,
   "id": "07cb939b",
   "metadata": {},
   "outputs": [
    {
     "data": {
      "text/plain": [
       "['riga1', 'riga2', 'riga3']"
      ]
     },
     "execution_count": 48,
     "metadata": {},
     "output_type": "execute_result"
    }
   ],
   "source": [
    "new_list_of_strings = [stringa[0:5] for stringa in list_of_strings]\n",
    "new_list_of_strings"
   ]
  },
  {
   "cell_type": "code",
   "execution_count": null,
   "id": "4d2551e8",
   "metadata": {},
   "outputs": [],
   "source": []
  }
 ],
 "metadata": {
  "kernelspec": {
   "display_name": "Python 3 (ipykernel)",
   "language": "python",
   "name": "python3"
  },
  "language_info": {
   "codemirror_mode": {
    "name": "ipython",
    "version": 3
   },
   "file_extension": ".py",
   "mimetype": "text/x-python",
   "name": "python",
   "nbconvert_exporter": "python",
   "pygments_lexer": "ipython3",
   "version": "3.11.4"
  }
 },
 "nbformat": 4,
 "nbformat_minor": 5
}
