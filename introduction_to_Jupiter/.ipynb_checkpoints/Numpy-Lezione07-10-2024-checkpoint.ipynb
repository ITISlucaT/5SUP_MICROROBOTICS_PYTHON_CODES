{
 "cells": [
  {
   "cell_type": "markdown",
   "id": "586fa3a9",
   "metadata": {},
   "source": [
    "# NumPy\n",
    "libreria per svolgere calcolo numerico a velocità di linguaggi a livello + basso\n",
    "permette di scrivere codice in maniera funzionale (orientato alle funzioni)\n"
   ]
  },
  {
   "cell_type": "code",
   "execution_count": 1,
   "id": "4e4547f6",
   "metadata": {},
   "outputs": [],
   "source": [
    "import numpy as np"
   ]
  },
  {
   "cell_type": "markdown",
   "id": "621e429e",
   "metadata": {},
   "source": [
    "### Array "
   ]
  },
  {
   "cell_type": "code",
   "execution_count": 2,
   "id": "c353a641",
   "metadata": {},
   "outputs": [
    {
     "data": {
      "text/plain": [
       "[1,\n",
       " 2.1,\n",
       " 'coap',\n",
       " <function print(*args, sep=' ', end='\\n', file=None, flush=False)>]"
      ]
     },
     "execution_count": 2,
     "metadata": {},
     "output_type": "execute_result"
    }
   ],
   "source": [
    "# perchè una lista non è un array? \n",
    "# perchè gli elementi possono occupare diversi spazi in memoria \n",
    "\n",
    "\n",
    "lista = [1, 2.1, \"coap\", print]\n",
    "lista"
   ]
  },
  {
   "cell_type": "code",
   "execution_count": 3,
   "id": "49f61a99",
   "metadata": {},
   "outputs": [
    {
     "data": {
      "text/plain": [
       "[1, 2, 3, 4]"
      ]
     },
     "execution_count": 3,
     "metadata": {},
     "output_type": "execute_result"
    }
   ],
   "source": [
    "list_seems_an_array = [1,2,3,4]\n",
    "list_seems_an_array"
   ]
  },
  {
   "cell_type": "code",
   "execution_count": 4,
   "id": "5ca6a260",
   "metadata": {},
   "outputs": [
    {
     "data": {
      "text/plain": [
       "array([1, 2, 3, 4])"
      ]
     },
     "execution_count": 4,
     "metadata": {},
     "output_type": "execute_result"
    }
   ],
   "source": [
    "array = np.array(list_seems_an_array) #converte la lista in array\n",
    "array"
   ]
  },
  {
   "cell_type": "code",
   "execution_count": 5,
   "id": "0828a89d",
   "metadata": {},
   "outputs": [
    {
     "data": {
      "text/plain": [
       "dtype('int64')"
      ]
     },
     "execution_count": 5,
     "metadata": {},
     "output_type": "execute_result"
    }
   ],
   "source": [
    "array.dtype # data type --> attributo che restituisce il tipo di dati contenuto nell'array"
   ]
  },
  {
   "cell_type": "code",
   "execution_count": 6,
   "id": "03fd4b7d",
   "metadata": {},
   "outputs": [
    {
     "data": {
      "text/plain": [
       "array([1, 2.1, 'coap', <built-in function print>], dtype=object)"
      ]
     },
     "execution_count": 6,
     "metadata": {},
     "output_type": "execute_result"
    }
   ],
   "source": [
    "np.array(lista) # DA NON FARE!!!"
   ]
  },
  {
   "cell_type": "code",
   "execution_count": 7,
   "id": "3efc4ac5",
   "metadata": {},
   "outputs": [
    {
     "data": {
      "text/plain": [
       "array([1., 2., 3., 4.])"
      ]
     },
     "execution_count": 7,
     "metadata": {},
     "output_type": "execute_result"
    }
   ],
   "source": [
    "float_array = np.array([1.,2.,3.,4.])\n",
    "float_array"
   ]
  },
  {
   "cell_type": "code",
   "execution_count": 8,
   "id": "ab6a2777",
   "metadata": {},
   "outputs": [
    {
     "data": {
      "text/plain": [
       "dtype('float64')"
      ]
     },
     "execution_count": 8,
     "metadata": {},
     "output_type": "execute_result"
    }
   ],
   "source": [
    "float_array.dtype"
   ]
  },
  {
   "cell_type": "code",
   "execution_count": 9,
   "id": "3279ebc9",
   "metadata": {},
   "outputs": [
    {
     "data": {
      "text/plain": [
       "array([0.+0.j, 0.+0.j, 0.+0.j, 0.+0.j, 0.+0.j, 0.+0.j, 0.+0.j, 0.+0.j,\n",
       "       0.+0.j, 0.+0.j], dtype=complex64)"
      ]
     },
     "execution_count": 9,
     "metadata": {},
     "output_type": "execute_result"
    }
   ],
   "source": [
    "zeros_array = np.zeros(10, dtype = np.complex64) #crea un array di 10 caselle con tutti zeri\n",
    "zeros_array"
   ]
  },
  {
   "cell_type": "code",
   "execution_count": 10,
   "id": "2b5a8161",
   "metadata": {},
   "outputs": [
    {
     "data": {
      "text/plain": [
       "array([1., 1., 1., 1., 1.])"
      ]
     },
     "execution_count": 10,
     "metadata": {},
     "output_type": "execute_result"
    }
   ],
   "source": [
    "ones_array = np.ones(5)\n",
    "ones_array"
   ]
  },
  {
   "cell_type": "code",
   "execution_count": 11,
   "id": "655af4a5",
   "metadata": {},
   "outputs": [
    {
     "data": {
      "text/plain": [
       "array([0, 1, 2, 3, 4, 5, 6, 7, 8, 9])"
      ]
     },
     "execution_count": 11,
     "metadata": {},
     "output_type": "execute_result"
    }
   ],
   "source": [
    "int_array = np.arange(0,10) # array con tutti i numeri compresi tra il primo ed il secondo parametro (secondo escluso)\n",
    "int_array"
   ]
  },
  {
   "cell_type": "code",
   "execution_count": 12,
   "id": "4df4a8db",
   "metadata": {},
   "outputs": [
    {
     "data": {
      "text/plain": [
       "dtype('int64')"
      ]
     },
     "execution_count": 12,
     "metadata": {},
     "output_type": "execute_result"
    }
   ],
   "source": [
    "int_array.dtype"
   ]
  },
  {
   "cell_type": "code",
   "execution_count": 13,
   "id": "6e885354",
   "metadata": {},
   "outputs": [
    {
     "data": {
      "text/plain": [
       "(10,)"
      ]
     },
     "execution_count": 13,
     "metadata": {},
     "output_type": "execute_result"
    }
   ],
   "source": [
    "int_array.shape #restituisce la forma dell'array (la dimensione di ogni dimensione)"
   ]
  },
  {
   "cell_type": "code",
   "execution_count": 14,
   "id": "6a6f4069",
   "metadata": {},
   "outputs": [
    {
     "data": {
      "text/plain": [
       "4.0"
      ]
     },
     "execution_count": 14,
     "metadata": {},
     "output_type": "execute_result"
    }
   ],
   "source": [
    "array = np.array([1.,2.,4.,-3.,4.,5.,])\n",
    "array[2] #indicizzazione come per le liste e le stringhe"
   ]
  },
  {
   "cell_type": "code",
   "execution_count": 15,
   "id": "ffd0200a",
   "metadata": {},
   "outputs": [
    {
     "data": {
      "text/plain": [
       "array([ 4., -3.,  4.])"
      ]
     },
     "execution_count": 15,
     "metadata": {},
     "output_type": "execute_result"
    }
   ],
   "source": [
    "array[2:5] #slicing come per le liste e le stringhe"
   ]
  },
  {
   "cell_type": "code",
   "execution_count": 16,
   "id": "018d2f9f",
   "metadata": {},
   "outputs": [
    {
     "data": {
      "text/plain": [
       "array([4., 4.])"
      ]
     },
     "execution_count": 16,
     "metadata": {},
     "output_type": "execute_result"
    }
   ],
   "source": [
    "array[2:5:2] #slicing come per le liste e le stringhe"
   ]
  },
  {
   "cell_type": "code",
   "execution_count": 17,
   "id": "d1e39c1b",
   "metadata": {},
   "outputs": [
    {
     "data": {
      "text/plain": [
       "array([ 1.,  2.,  4., -3.,  4.,  5.])"
      ]
     },
     "execution_count": 17,
     "metadata": {},
     "output_type": "execute_result"
    }
   ],
   "source": [
    "array"
   ]
  },
  {
   "cell_type": "code",
   "execution_count": 18,
   "id": "8fff8835",
   "metadata": {},
   "outputs": [
    {
     "data": {
      "text/plain": [
       "array([1., 2., 9., 9., 9., 5.])"
      ]
     },
     "execution_count": 18,
     "metadata": {},
     "output_type": "execute_result"
    }
   ],
   "source": [
    "array[2:5] = 9 #Broadcasting --> il 9 viene inviato a tutti gli elementi prima dell'assegnamento\n",
    "array"
   ]
  },
  {
   "cell_type": "markdown",
   "id": "764f0281",
   "metadata": {},
   "source": [
    "### Esercizio\n",
    "dato n intero > 1 creare un array di n elementi interi fatto come il seguente:\n",
    "\n",
    "`[0, 1, 0, 1, 0, 1, 0]`\n"
   ]
  },
  {
   "cell_type": "code",
   "execution_count": 19,
   "id": "915d71af",
   "metadata": {},
   "outputs": [
    {
     "data": {
      "text/plain": [
       "array([0, 1, 0, 1, 0, 1, 0, 1, 0, 1, 0, 1, 0, 1, 0, 1, 0, 1, 0, 1])"
      ]
     },
     "execution_count": 19,
     "metadata": {},
     "output_type": "execute_result"
    }
   ],
   "source": [
    "n = 20\n",
    "array_resulted = np.zeros(n, dtype = np.int64)\n",
    "array_resulted[1::2] = 1\n",
    "array_resulted"
   ]
  },
  {
   "cell_type": "markdown",
   "id": "b86571b3",
   "metadata": {},
   "source": [
    "**Gli array NumPy si comportano come vettori matematici**"
   ]
  },
  {
   "cell_type": "code",
   "execution_count": 20,
   "id": "6b2dd36d",
   "metadata": {},
   "outputs": [
    {
     "data": {
      "text/plain": [
       "array([0., 6.])"
      ]
     },
     "execution_count": 20,
     "metadata": {},
     "output_type": "execute_result"
    }
   ],
   "source": [
    "v1 = np.array([1.0, 2.0])\n",
    "v2 = np.array([-1.0, 4.0])\n",
    "v1+v2"
   ]
  },
  {
   "cell_type": "code",
   "execution_count": 21,
   "id": "0fcd03fa",
   "metadata": {},
   "outputs": [
    {
     "data": {
      "text/plain": [
       "array([3.14, 6.28])"
      ]
     },
     "execution_count": 21,
     "metadata": {},
     "output_type": "execute_result"
    }
   ],
   "source": [
    "3.14 * v1"
   ]
  },
  {
   "cell_type": "markdown",
   "id": "31a8152c",
   "metadata": {},
   "source": [
    "#### Nuova funzione per generare array: linspace()\n",
    "intervallo fra f1-f2 --> 3parametro divide intervallo in int3 parti\n",
    "\n",
    "**Genera un array di int3 valori equispaziati tra f1 e f2**"
   ]
  },
  {
   "cell_type": "code",
   "execution_count": 24,
   "id": "91b250ba",
   "metadata": {},
   "outputs": [
    {
     "data": {
      "text/plain": [
       "array([ 0. ,  0.5,  1. ,  1.5,  2. ,  2.5,  3. ,  3.5,  4. ,  4.5,  5. ,\n",
       "        5.5,  6. ,  6.5,  7. ,  7.5,  8. ,  8.5,  9. ,  9.5, 10. ])"
      ]
     },
     "execution_count": 24,
     "metadata": {},
     "output_type": "execute_result"
    }
   ],
   "source": [
    "array = np.linspace(0., 10., 21)\n",
    "array"
   ]
  },
  {
   "cell_type": "code",
   "execution_count": 26,
   "id": "5eb92999",
   "metadata": {},
   "outputs": [
    {
     "data": {
      "text/plain": [
       "array([1.00000000e+00, 1.64872127e+00, 2.71828183e+00, 4.48168907e+00,\n",
       "       7.38905610e+00, 1.21824940e+01, 2.00855369e+01, 3.31154520e+01,\n",
       "       5.45981500e+01, 9.00171313e+01, 1.48413159e+02, 2.44691932e+02,\n",
       "       4.03428793e+02, 6.65141633e+02, 1.09663316e+03, 1.80804241e+03,\n",
       "       2.98095799e+03, 4.91476884e+03, 8.10308393e+03, 1.33597268e+04,\n",
       "       2.20264658e+04])"
      ]
     },
     "execution_count": 26,
     "metadata": {},
     "output_type": "execute_result"
    }
   ],
   "source": [
    "np.exp(array)"
   ]
  },
  {
   "cell_type": "code",
   "execution_count": 27,
   "id": "077b5f00",
   "metadata": {},
   "outputs": [
    {
     "data": {
      "text/plain": [
       "array([  0.  ,   0.25,   1.  ,   2.25,   4.  ,   6.25,   9.  ,  12.25,\n",
       "        16.  ,  20.25,  25.  ,  30.25,  36.  ,  42.25,  49.  ,  56.25,\n",
       "        64.  ,  72.25,  81.  ,  90.25, 100.  ])"
      ]
     },
     "execution_count": 27,
     "metadata": {},
     "output_type": "execute_result"
    }
   ],
   "source": [
    "array**2"
   ]
  },
  {
   "cell_type": "markdown",
   "id": "13bd7224",
   "metadata": {},
   "source": [
    "### Funzioni per generare array pseudo-casuali"
   ]
  },
  {
   "cell_type": "code",
   "execution_count": 40,
   "id": "73b96549",
   "metadata": {},
   "outputs": [
    {
     "data": {
      "text/plain": [
       "array([1, 6, 5, 1, 5, 3, 3, 4, 1, 5])"
      ]
     },
     "execution_count": 40,
     "metadata": {},
     "output_type": "execute_result"
    }
   ],
   "source": [
    "np.random.randint(1, 7, 10)"
   ]
  },
  {
   "cell_type": "code",
   "execution_count": 43,
   "id": "078dd769",
   "metadata": {},
   "outputs": [
    {
     "data": {
      "text/plain": [
       "array([8.70338387, 1.29810399, 1.35417884, 7.57846545, 5.14860203,\n",
       "       6.01046982, 8.17520481, 6.65148148, 9.50271425, 2.77650837,\n",
       "       4.9110563 , 2.34726581, 6.98513316, 0.21854708, 2.64362383])"
      ]
     },
     "execution_count": 43,
     "metadata": {},
     "output_type": "execute_result"
    }
   ],
   "source": [
    "np.random.uniform(0., 10., 15)"
   ]
  },
  {
   "cell_type": "markdown",
   "id": "6bc749bd",
   "metadata": {},
   "source": [
    "### Esercizio: \n",
    "Simuliamo una partita a dadi tra Alice e Bob: ognuno di loro esegue n=10 lanci "
   ]
  },
  {
   "cell_type": "code",
   "execution_count": 86,
   "id": "7eabbc0d",
   "metadata": {},
   "outputs": [
    {
     "name": "stdout",
     "output_type": "stream",
     "text": [
      "Lanci di Alice: [4 2 5 3 3 6 5 2 4 4]\n",
      "Lanci di bob: [3 1 1 6 3 1 5 6 2 3]\n"
     ]
    }
   ],
   "source": [
    "n=10\n",
    "alice = np.random.randint(1, 7, n)\n",
    "bob = np.random.randint(1, 7, n)\n",
    "print(f\"Lanci di Alice: {alice}\\nLanci di bob: {bob}\")"
   ]
  },
  {
   "cell_type": "markdown",
   "id": "c27dae57",
   "metadata": {},
   "source": [
    "Calcolare quante volte ha vinto Alice"
   ]
  },
  {
   "cell_type": "code",
   "execution_count": 87,
   "id": "ac56cdeb",
   "metadata": {},
   "outputs": [
    {
     "data": {
      "text/plain": [
       "array([ True,  True,  True, False, False,  True, False, False,  True,\n",
       "        True])"
      ]
     },
     "execution_count": 87,
     "metadata": {},
     "output_type": "execute_result"
    }
   ],
   "source": [
    "vince_alice = alice > bob\n",
    "vince_alice"
   ]
  },
  {
   "cell_type": "code",
   "execution_count": 88,
   "id": "c10f725b",
   "metadata": {},
   "outputs": [
    {
     "data": {
      "text/plain": [
       "dtype('bool')"
      ]
     },
     "execution_count": 88,
     "metadata": {},
     "output_type": "execute_result"
    }
   ],
   "source": [
    "vince_alice.dtype"
   ]
  },
  {
   "cell_type": "code",
   "execution_count": 89,
   "id": "6092ec8d",
   "metadata": {},
   "outputs": [
    {
     "data": {
      "text/plain": [
       "6"
      ]
     },
     "execution_count": 89,
     "metadata": {},
     "output_type": "execute_result"
    }
   ],
   "source": [
    "np.count_nonzero(vince_alice) # restituisce il numero di occorrenze diverse da 0 --> il true è != 0"
   ]
  },
  {
   "cell_type": "code",
   "execution_count": 90,
   "id": "b85b31e8",
   "metadata": {},
   "outputs": [
    {
     "name": "stdout",
     "output_type": "stream",
     "text": [
      "2\n"
     ]
    }
   ],
   "source": [
    "alice_pareggia = alice == bob\n",
    "print(f\"{np.count_nonzero(alice == bob)}\")\n"
   ]
  },
  {
   "cell_type": "markdown",
   "id": "c8c9c145",
   "metadata": {},
   "source": [
    "Quali sono i punteggi di alice quando la partita finisce in pareggio?"
   ]
  },
  {
   "cell_type": "code",
   "execution_count": 91,
   "id": "24802809",
   "metadata": {},
   "outputs": [
    {
     "data": {
      "text/plain": [
       "array([3, 5])"
      ]
     },
     "execution_count": 91,
     "metadata": {},
     "output_type": "execute_result"
    }
   ],
   "source": [
    "alice[alice_pareggia] # indicizzazione booleana"
   ]
  },
  {
   "cell_type": "code",
   "execution_count": 92,
   "id": "60d35acf",
   "metadata": {},
   "outputs": [
    {
     "data": {
      "text/plain": [
       "array([4, 2, 5, 3, 3, 6, 5, 2, 4, 4])"
      ]
     },
     "execution_count": 92,
     "metadata": {},
     "output_type": "execute_result"
    }
   ],
   "source": [
    "alice"
   ]
  },
  {
   "cell_type": "code",
   "execution_count": 93,
   "id": "02976516",
   "metadata": {},
   "outputs": [
    {
     "data": {
      "text/plain": [
       "array([False, False, False, False,  True, False,  True, False, False,\n",
       "       False])"
      ]
     },
     "execution_count": 93,
     "metadata": {},
     "output_type": "execute_result"
    }
   ],
   "source": [
    "alice_pareggia"
   ]
  },
  {
   "cell_type": "markdown",
   "id": "e9583a4d",
   "metadata": {},
   "source": [
    "Trovare i punteggi di Bob nei casi in cui Bob vince"
   ]
  },
  {
   "cell_type": "code",
   "execution_count": 94,
   "id": "4c025546",
   "metadata": {},
   "outputs": [
    {
     "data": {
      "text/plain": [
       "array([6, 6])"
      ]
     },
     "execution_count": 94,
     "metadata": {},
     "output_type": "execute_result"
    }
   ],
   "source": [
    "bob_vince = bob > alice\n",
    "bob[bob_vince]"
   ]
  },
  {
   "cell_type": "markdown",
   "id": "08c99270",
   "metadata": {},
   "source": [
    "Bob è disonesto e vuole manomettere i punteggi: quando perde vorrebbe vincere o alla peggio pareggiare.\n",
    "Manomettere i punteggi di Bob."
   ]
  },
  {
   "cell_type": "code",
   "execution_count": 95,
   "id": "5e50ec2d",
   "metadata": {},
   "outputs": [],
   "source": [
    "#bob[:] = 6\n",
    "#bob"
   ]
  },
  {
   "cell_type": "code",
   "execution_count": 96,
   "id": "b4e68bc6",
   "metadata": {},
   "outputs": [
    {
     "data": {
      "text/plain": [
       "array([ True,  True,  True, False, False,  True, False, False,  True,\n",
       "        True])"
      ]
     },
     "execution_count": 96,
     "metadata": {},
     "output_type": "execute_result"
    }
   ],
   "source": [
    "bob_perde = bob < alice\n",
    "bob_perde"
   ]
  },
  {
   "cell_type": "code",
   "execution_count": 97,
   "id": "b4812a44",
   "metadata": {},
   "outputs": [
    {
     "data": {
      "text/plain": [
       "array([6, 6, 6, 6, 3, 6, 5, 6, 6, 6])"
      ]
     },
     "execution_count": 97,
     "metadata": {},
     "output_type": "execute_result"
    }
   ],
   "source": [
    "bob[bob_perde] = 6\n",
    "bob"
   ]
  },
  {
   "cell_type": "code",
   "execution_count": null,
   "id": "90c11616",
   "metadata": {},
   "outputs": [],
   "source": []
  }
 ],
 "metadata": {
  "kernelspec": {
   "display_name": "Python 3 (ipykernel)",
   "language": "python",
   "name": "python3"
  },
  "language_info": {
   "codemirror_mode": {
    "name": "ipython",
    "version": 3
   },
   "file_extension": ".py",
   "mimetype": "text/x-python",
   "name": "python",
   "nbconvert_exporter": "python",
   "pygments_lexer": "ipython3",
   "version": "3.11.4"
  }
 },
 "nbformat": 4,
 "nbformat_minor": 5
}
