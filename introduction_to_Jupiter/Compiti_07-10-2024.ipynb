{
 "cells": [
  {
   "cell_type": "markdown",
   "id": "f1eaad82",
   "metadata": {},
   "source": [
    "# Esercizio per il 7/10\n",
    "## Es 1\n",
    "creare alfabeto con lettere spazi e varatteri speciali\n",
    "\n",
    "d >=1\n",
    "prenidmao in input una stringa e la trasformiamo in una stringa in cui i caratteri sono shiftati di d posizioni in avanti\n",
    "\n",
    "implementare due funzioni: \n",
    "   -> funzione di codifica, stringa in chiaro a stringa codificata \n",
    "   -> funzione di decodifica, stringa codificata a stringa in chiaro\n",
    "## Es 2\n",
    "scrivere una funzione is_prime(p) p(numero naturale)\n",
    "restituisce vero se il numero naturale è primo, false altrimenti\n",
    "poi usare una lista comprehension per scrivere tutti i numeri naturali non primi <= ad n"
   ]
  },
  {
   "cell_type": "markdown",
   "id": "1cf86ee5",
   "metadata": {},
   "source": [
    "Es 1\n"
   ]
  },
  {
   "cell_type": "code",
   "execution_count": null,
   "id": "0d295da8",
   "metadata": {},
   "outputs": [],
   "source": [
    "alphabet = \"abcdefghijklmnopqrstuvWxyz ,;.:-_à#°èé[]+*!\\\"£$%&/()=?\\'ì^0123456789|\\<>\"\n",
    "alphabet2numb = {key: value for value, key in enumerate(alphabet)}\n",
    "numb2alphabet = {key : value for key, value in enumerate(alphabet)}\n",
    "numb2alphabet"
   ]
  },
  {
   "cell_type": "code",
   "execution_count": 35,
   "id": "668d4e18",
   "metadata": {},
   "outputs": [
    {
     "name": "stdout",
     "output_type": "stream",
     "text": [
      "Inserisci una stringa da criptare: pippo\n"
     ]
    },
    {
     "data": {
      "text/plain": [
       "''"
      ]
     },
     "execution_count": 35,
     "metadata": {},
     "output_type": "execute_result"
    }
   ],
   "source": [
    "shift_len = 3\n",
    "user_input = input(\"Inserisci una stringa da criptare: \")\n",
    "\n",
    "cripted_string = \"\"\n",
    "for letter in user_input:\n",
    "    index_to_shift = alphabet2numb[letter] + shift_len\n",
    "    if index_to_shift >= len(alphabet):\n",
    "        index_to_shift -= len(alphabet)\n",
    "    cripted_string += numb2alphabet[index_to_shift]\n",
    "cripted_string"
   ]
  },
  {
   "cell_type": "code",
   "execution_count": 43,
   "id": "da0976c8",
   "metadata": {},
   "outputs": [],
   "source": [
    "def encode_string(string, shift = 3):\n",
    "    \"\"\"\n",
    "    function to cript a string\n",
    "    \n",
    "    Parameters:\n",
    "    string: String\n",
    "    shift: numeric (default = 3)\n",
    "    \n",
    "    Returns:\n",
    "    cripted string shifted for the value of the parameter \"shift\"\n",
    "    \"\"\"\n",
    "    alphabet = \"abcdefghijklmnopqrstuvWxyz ,;.:-_à#°èé[]+*!\\\"£$%&/()=?\\'ì^0123456789|\\<>\"\n",
    "    alphabet2numb = {key: value for value, key in enumerate(alphabet)}\n",
    "    numb2alphabet = {key : value for key, value in enumerate(alphabet)}\n",
    "    cripted_string = \"\"\n",
    "    for letter in string:\n",
    "        index_to_shift = alphabet2numb[letter] + shift_len\n",
    "        if index_to_shift >= len(alphabet):\n",
    "            index_to_shift -= len(alphabet)\n",
    "        cripted_string += numb2alphabet[index_to_shift]\n",
    "    return cripted_string\n",
    "    "
   ]
  },
  {
   "cell_type": "code",
   "execution_count": 48,
   "id": "a82c56f0",
   "metadata": {},
   "outputs": [],
   "source": [
    "def decode_string(string, shift = 3):\n",
    "    \"\"\"\n",
    "    function to decript a string\n",
    "    \n",
    "    Parameters:\n",
    "    string: String\n",
    "    shift: numeric (default = 3)\n",
    "    \n",
    "    Returns:\n",
    "    decripted string deshifted for the value of the parameter \"shift\"\n",
    "    \"\"\"\n",
    "    alphabet = \"abcdefghijklmnopqrstuvWxyz ,;.:-_à#°èé[]+*!\\\"£$%&/()=?\\'ì^0123456789|\\<>\"\n",
    "    alphabet2numb = {key: value for value, key in enumerate(alphabet)}\n",
    "    numb2alphabet = {key : value for key, value in enumerate(alphabet)}\n",
    "    cripted_string = \"\"\n",
    "    for letter in string:\n",
    "        index_to_shift = alphabet2numb[letter] - shift_len\n",
    "        if index_to_shift >= len(alphabet):\n",
    "            index_to_shift -= len(alphabet)\n",
    "        cripted_string += numb2alphabet[index_to_shift]\n",
    "    return cripted_string\n",
    "    "
   ]
  },
  {
   "cell_type": "code",
   "execution_count": 52,
   "id": "919f3651",
   "metadata": {},
   "outputs": [
    {
     "name": "stdout",
     "output_type": "stream",
     "text": [
      "slssr\n",
      "pippo\n"
     ]
    }
   ],
   "source": [
    "encoded_string = encode_string(\"pippo\", shift=4)\n",
    "print(encoded_string)\n",
    "decoded_string = decode_string(encoded_string, shift=4)\n",
    "print(decoded_string)"
   ]
  },
  {
   "cell_type": "code",
   "execution_count": 2,
   "id": "9c357279",
   "metadata": {},
   "outputs": [
    {
     "data": {
      "text/plain": [
       "True"
      ]
     },
     "execution_count": 2,
     "metadata": {},
     "output_type": "execute_result"
    }
   ],
   "source": [
    "def is_prime(p):\n",
    "    '''\n",
    "    A function to define if a number is prime\n",
    "    \n",
    "    Parameters:\n",
    "    p: numeric\n",
    "    \n",
    "    Returns:\n",
    "    True if p is prime\n",
    "    False if p is not prime\n",
    "    '''\n",
    "    if p <= 1: return False\n",
    "    for i in range(2, p-1):\n",
    "        if p % i == 0: return False\n",
    "    return True\n",
    "is_prime(11)\n"
   ]
  },
  {
   "cell_type": "code",
   "execution_count": 3,
   "id": "1ea1703d",
   "metadata": {},
   "outputs": [
    {
     "data": {
      "text/plain": [
       "[1,\n",
       " 4,\n",
       " 6,\n",
       " 8,\n",
       " 9,\n",
       " 10,\n",
       " 12,\n",
       " 14,\n",
       " 15,\n",
       " 16,\n",
       " 18,\n",
       " 20,\n",
       " 21,\n",
       " 22,\n",
       " 24,\n",
       " 25,\n",
       " 26,\n",
       " 27,\n",
       " 28,\n",
       " 30,\n",
       " 32,\n",
       " 33,\n",
       " 34,\n",
       " 35,\n",
       " 36,\n",
       " 38,\n",
       " 39,\n",
       " 40,\n",
       " 42,\n",
       " 44,\n",
       " 45,\n",
       " 46,\n",
       " 48,\n",
       " 49,\n",
       " 50,\n",
       " 51,\n",
       " 52,\n",
       " 54,\n",
       " 55,\n",
       " 56,\n",
       " 57,\n",
       " 58,\n",
       " 60,\n",
       " 62,\n",
       " 63,\n",
       " 64,\n",
       " 65,\n",
       " 66,\n",
       " 68,\n",
       " 69,\n",
       " 70,\n",
       " 72,\n",
       " 74,\n",
       " 75,\n",
       " 76,\n",
       " 77,\n",
       " 78,\n",
       " 80,\n",
       " 81,\n",
       " 82,\n",
       " 84,\n",
       " 85,\n",
       " 86,\n",
       " 87,\n",
       " 88,\n",
       " 90,\n",
       " 91,\n",
       " 92,\n",
       " 93,\n",
       " 94,\n",
       " 95,\n",
       " 96,\n",
       " 98,\n",
       " 99]"
      ]
     },
     "execution_count": 3,
     "metadata": {},
     "output_type": "execute_result"
    }
   ],
   "source": [
    "n = 100\n",
    "not_prime_numbers_list = [1] + [i for i in range(2, n) if not is_prime(i)]\n",
    "not_prime_numbers_list"
   ]
  },
  {
   "cell_type": "code",
   "execution_count": null,
   "id": "25f9a75d",
   "metadata": {},
   "outputs": [],
   "source": []
  }
 ],
 "metadata": {
  "kernelspec": {
   "display_name": "Python 3 (ipykernel)",
   "language": "python",
   "name": "python3"
  },
  "language_info": {
   "codemirror_mode": {
    "name": "ipython",
    "version": 3
   },
   "file_extension": ".py",
   "mimetype": "text/x-python",
   "name": "python",
   "nbconvert_exporter": "python",
   "pygments_lexer": "ipython3",
   "version": "3.11.4"
  }
 },
 "nbformat": 4,
 "nbformat_minor": 5
}
