{
 "cells": [
  {
   "cell_type": "markdown",
   "id": "bcc18b98",
   "metadata": {},
   "source": [
    "# Funzioni: parametri con valori di default"
   ]
  },
  {
   "cell_type": "code",
   "execution_count": 3,
   "id": "5c109ff1",
   "metadata": {},
   "outputs": [],
   "source": [
    "def somma(a, b=1):\n",
    "    return a+b\n"
   ]
  },
  {
   "cell_type": "code",
   "execution_count": 4,
   "id": "5bed4162",
   "metadata": {},
   "outputs": [
    {
     "data": {
      "text/plain": [
       "46"
      ]
     },
     "execution_count": 4,
     "metadata": {},
     "output_type": "execute_result"
    }
   ],
   "source": [
    "somma(45)"
   ]
  },
  {
   "cell_type": "code",
   "execution_count": 24,
   "id": "0fe712c6",
   "metadata": {},
   "outputs": [],
   "source": [
    "def operation (a, b, operation):\n",
    "    \"\"\"\n",
    "    io sono una docstring e documento la funzione\n",
    "    Parameters: \n",
    "        a: numeric\n",
    "        b: numeric\n",
    "        operation: \"+\", \"-\", \"*\", \"/\", \"**\"\n",
    "    \n",
    "    Returns:\n",
    "        a operation b\n",
    "    \"\"\"\n",
    "    consented_operator = [\"+\", \"-\", \"*\", \"/\", \"**\"]\n",
    "\n",
    "    if operation  in consented_operator:\n",
    "        returned_string = f\"{a}{operation}{b}\"\n",
    "        return eval(returned_string)\n",
    "    else: return None"
   ]
  },
  {
   "cell_type": "code",
   "execution_count": 25,
   "id": "4a2421bc",
   "metadata": {},
   "outputs": [
    {
     "name": "stdout",
     "output_type": "stream",
     "text": [
      "15\n"
     ]
    }
   ],
   "source": [
    "print(operation(5,3,\"*\"))"
   ]
  },
  {
   "cell_type": "markdown",
   "id": "7a370e58",
   "metadata": {},
   "source": [
    "# Comprehension (liste/dizionari)"
   ]
  },
  {
   "cell_type": "code",
   "execution_count": 27,
   "id": "09258597",
   "metadata": {},
   "outputs": [
    {
     "data": {
      "text/plain": [
       "['ciao', 'casa', 'scuola', 'informatica', 'computer']"
      ]
     },
     "execution_count": 27,
     "metadata": {},
     "output_type": "execute_result"
    }
   ],
   "source": [
    "words = [\"ciao\", \"casa\", \"scuola\", \"informatica\", \"computer\"]\n",
    "words"
   ]
  },
  {
   "cell_type": "code",
   "execution_count": 34,
   "id": "48aff9b2",
   "metadata": {},
   "outputs": [
    {
     "data": {
      "text/plain": [
       "['ciao', 'casa', 'computer']"
      ]
     },
     "execution_count": 34,
     "metadata": {},
     "output_type": "execute_result"
    }
   ],
   "source": [
    "words_c = [word for word in words if word[0]==\"c\"] #list comprehension con filtro\n",
    "words_c"
   ]
  },
  {
   "cell_type": "code",
   "execution_count": 32,
   "id": "4ff83cc0",
   "metadata": {},
   "outputs": [
    {
     "name": "stdout",
     "output_type": "stream",
     "text": [
      "['informatica', 'computer']\n"
     ]
    }
   ],
   "source": [
    "words_6 = [word for word in words if len(word)> 6]\n",
    "print(words_6)"
   ]
  },
  {
   "cell_type": "code",
   "execution_count": 47,
   "id": "562306a6",
   "metadata": {},
   "outputs": [
    {
     "name": "stdout",
     "output_type": "stream",
     "text": [
      "{0: 'a', 1: 'b', 2: 'c', 3: 'd', 4: 'e', 5: 'f', 6: 'g', 7: 'h', 8: 'i', 9: 'l', 10: 'm', 11: 'n', 12: 'o', 13: 'p', 14: 'q', 15: 'r', 16: 's', 17: 't', 18: 'u', 19: 'v', 20: 'z', 21: ' '}\n"
     ]
    }
   ],
   "source": [
    "letters = \"abcdefghilmnopqrstuvz \"\n",
    "letters2numbers = {letter : number for number,letter in enumerate(letters) }\n",
    "#dict_letters\n",
    "numbers2dict = {number : letter for number,letter in enumerate(letters) } #dictionary comprehension\n",
    "print(numbers2dict)"
   ]
  },
  {
   "cell_type": "code",
   "execution_count": 48,
   "id": "7e3804c3",
   "metadata": {},
   "outputs": [
    {
     "data": {
      "text/plain": [
       "[2, 8, 0, 12, 21, 16, 17, 12, 21, 1, 4, 11, 4]"
      ]
     },
     "execution_count": 48,
     "metadata": {},
     "output_type": "execute_result"
    }
   ],
   "source": [
    "string = \"ciao sto bene\"\n",
    "string_in_numbers = [letters2numbers[char] for char in string]\n",
    "string_in_numbers"
   ]
  },
  {
   "cell_type": "code",
   "execution_count": 50,
   "id": "a5e4e8be",
   "metadata": {},
   "outputs": [
    {
     "data": {
      "text/plain": [
       "[[0, 1, 2, 3, 4],\n",
       " [1, 2, 3, 4, 5],\n",
       " [2, 3, 4, 5, 6],\n",
       " [3, 4, 5, 6, 7],\n",
       " [4, 5, 6, 7, 8]]"
      ]
     },
     "execution_count": 50,
     "metadata": {},
     "output_type": "execute_result"
    }
   ],
   "source": [
    "n = 5\n",
    "[[i+j for j in range(0, n)] for i in range(0,n)]"
   ]
  },
  {
   "cell_type": "code",
   "execution_count": 53,
   "id": "c11d7cb3",
   "metadata": {},
   "outputs": [
    {
     "data": {
      "text/plain": [
       "[[2, 4, 6, 8, 10, 12, 14, 16, 18, 20],\n",
       " [3, 6, 9, 12, 15, 18, 21, 24, 27, 30],\n",
       " [4, 8, 12, 16, 20, 24, 28, 32, 36, 40],\n",
       " [5, 10, 15, 20, 25, 30, 35, 40, 45, 50],\n",
       " [6, 12, 18, 24, 30, 36, 42, 48, 54, 60],\n",
       " [7, 14, 21, 28, 35, 42, 49, 56, 63, 70],\n",
       " [8, 16, 24, 32, 40, 48, 56, 64, 72, 80],\n",
       " [9, 18, 27, 36, 45, 54, 63, 72, 81, 90],\n",
       " [10, 20, 30, 40, 50, 60, 70, 80, 90, 100]]"
      ]
     },
     "execution_count": 53,
     "metadata": {},
     "output_type": "execute_result"
    }
   ],
   "source": [
    "n = 11\n",
    "[[i*j for j in range(1,n)] for i in range(2,n)]"
   ]
  },
  {
   "cell_type": "code",
   "execution_count": null,
   "id": "d064e0f0",
   "metadata": {},
   "outputs": [],
   "source": []
  }
 ],
 "metadata": {
  "kernelspec": {
   "display_name": "Python 3 (ipykernel)",
   "language": "python",
   "name": "python3"
  },
  "language_info": {
   "codemirror_mode": {
    "name": "ipython",
    "version": 3
   },
   "file_extension": ".py",
   "mimetype": "text/x-python",
   "name": "python",
   "nbconvert_exporter": "python",
   "pygments_lexer": "ipython3",
   "version": "3.11.4"
  }
 },
 "nbformat": 4,
 "nbformat_minor": 5
}
